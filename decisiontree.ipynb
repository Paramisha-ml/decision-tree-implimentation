import pandas as pd
from sklearn.tree import DecisionTreeClassifier, plot_tree # to creates the decision tree model & draw the decision tree.
from sklearn.preprocessing import LabelEncoder #this is text to number coverter
import matplotlib.pyplot as plt

# a sample of Play Tennis dataset
data = {
    'Outlook': ['Sunny', 'Sunny', 'Overcast', 'Rain', 'Rain', 'Rain', 'Overcast', 'Sunny', 'Sunny', 'Rain', 'Sunny', 'Overcast', 'Overcast', 'Rain'],
    'Temperature': ['Hot', 'Hot', 'Hot', 'Mild', 'Cool', 'Cool', 'Cool', 'Mild', 'Cool', 'Mild', 'Mild', 'Mild', 'Hot', 'Mild'],
    'Humidity': ['High', 'High', 'High', 'High', 'Normal', 'Normal', 'Normal', 'High', 'Normal', 'Normal', 'Normal', 'High', 'Normal', 'High'],
    'Wind': ['Weak', 'Strong', 'Weak', 'Weak', 'Weak', 'Strong', 'Strong', 'Weak', 'Weak', 'Weak', 'Strong', 'Strong', 'Weak', 'Strong'],
    'PlayTennis': ['No', 'No', 'Yes', 'Yes', 'Yes', 'No', 'Yes', 'No', 'Yes', 'Yes', 'Yes', 'Yes', 'Yes', 'No']
}

#create dataframe
df = pd.DataFrame(data)

#this LabelEncoder will Convert text labels to numbers
le = LabelEncoder()
for column in df.columns:
    df[column] = le.fit_transform(df[column])

# Splits the data
X = df.drop('PlayTennis', axis=1) #into input
y = df['PlayTennis']              #and output

# Train the model
model = DecisionTreeClassifier()
model.fit(X, y)

# Plot the decision tree and shows the final answer (yes or no)
plt.figure(figsize=(10, 6))
plot_tree(model, filled=True, feature_names=X.columns, class_names=['No', 'Yes'])
plt.show()
